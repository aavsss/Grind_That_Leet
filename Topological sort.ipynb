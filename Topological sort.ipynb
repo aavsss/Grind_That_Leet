{
 "cells": [
  {
   "cell_type": "code",
   "execution_count": null,
   "id": "enclosed-lightning",
   "metadata": {},
   "outputs": [],
   "source": [
    "\"\"\"\n",
    "https://leetcode.com/problems/course-schedule/submissions/\n",
    "Answer link: https://www.youtube.com/watch?v=EgI5nU9etnU&t=921s&ab_channel=NeetCode\n",
    "There are a total of numCourses courses you have to take, labeled from 0 to numCourses - 1. You are given an array prerequisites where prerequisites[i] = [ai, bi] indicates that you must take course bi first if you want to take course ai.\n",
    "\n",
    "For example, the pair [0, 1], indicates that to take course 0 you have to first take course 1.\n",
    "Return true if you can finish all courses. Otherwise, return false.\n",
    "\"\"\"\n",
    "\n",
    "\"\"\"\n",
    "Thought process:\n",
    "visualize first \n",
    "can use dfs to do topological sort \n",
    "put all the visited nodes in a set \n",
    "if the element we are going to traverse is already in the set then it is a cycle,\n",
    "Thus, it will be False \n",
    "else we return True\n",
    "\"\"\"\n",
    "class Solution:\n",
    "    def canFinish(self, numCourses: int, prerequisites: List[List[int]]) -> bool:\n",
    "        #map each course to prereq list\n",
    "        preMap = {i: [] for i in range(numCourses)}\n",
    "        for crs, pre in prerequisites:\n",
    "            preMap[crs].append(pre)\n",
    "            \n",
    "        #visitedSet - all courses along the curr DFS path\n",
    "        visitedSet = set()\n",
    "        def dfs(crs):\n",
    "            if crs in visitedSet: #base cases\n",
    "                return False\n",
    "            if preMap[crs] == []:\n",
    "                return True\n",
    "            \n",
    "            visitedSet.add(crs)\n",
    "            for pre in preMap[crs]:\n",
    "                if not dfs(pre): return False #recursive step                    \n",
    "                \n",
    "            visitedSet.remove(crs)\n",
    "            preMap[crs] = []\n",
    "            return True\n",
    "        \n",
    "        for crs in range(numCourses):\n",
    "            if not dfs(crs): return False\n",
    "        return True"
   ]
  }
 ],
 "metadata": {
  "kernelspec": {
   "display_name": "Python 3",
   "language": "python",
   "name": "python3"
  },
  "language_info": {
   "codemirror_mode": {
    "name": "ipython",
    "version": 3
   },
   "file_extension": ".py",
   "mimetype": "text/x-python",
   "name": "python",
   "nbconvert_exporter": "python",
   "pygments_lexer": "ipython3",
   "version": "3.7.2"
  }
 },
 "nbformat": 4,
 "nbformat_minor": 5
}

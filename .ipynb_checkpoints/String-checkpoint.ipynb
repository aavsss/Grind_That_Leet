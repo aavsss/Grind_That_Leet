{
 "cells": [
  {
   "cell_type": "code",
   "execution_count": null,
   "id": "popular-alabama",
   "metadata": {},
   "outputs": [],
   "source": [
    "# https://leetcode.com/problems/longer-contiguous-segments-of-ones-than-zeros/\n",
    "\"\"\"\n",
    "Given a binary string s, return true if the longest contiguous segment of 1s is strictly longer than the longest contiguous segment of 0s in s. Return false otherwise.\n",
    "\n",
    "For example, in s = \"110100010\" the longest contiguous segment of 1s has length 2, and the longest contiguous segment of 0s has length 3.\n",
    "Note that if there are no 0s, then the longest contiguous segment of 0s is considered to have length 0. The same applies if there are no 1s.\n",
    "\n",
    " \"\"\"\n",
    "class Solution:\n",
    "    def checkZeroOnes(self, s: str) -> bool:\n",
    "        maxCount1 = 0\n",
    "        maxCount0 = 0\n",
    "        count1 = 0\n",
    "        count0 = 0\n",
    "        \n",
    "        for i in range(len(s)):\n",
    "            if s[i] == '1':\n",
    "                count1 += 1\n",
    "            else:\n",
    "                maxCount1 = max(maxCount1, count1)\n",
    "                count1 = 0\n",
    "                \n",
    "        for i in range(len(s)):\n",
    "            if s[i] == '0':\n",
    "                count0 += 1\n",
    "            else:\n",
    "                maxCount0 = max(maxCount0, count0)\n",
    "                count0 = 0\n",
    "            \n",
    "        maxCount1 = max(maxCount1, count1)\n",
    "        maxCount0 = max(maxCount0, count0)\n",
    "        # print(str(maxCount1) + \" \" + str(maxCount0))\n",
    "        return maxCount1 > maxCount0"
   ]
  }
 ],
 "metadata": {
  "kernelspec": {
   "display_name": "Python 3",
   "language": "python",
   "name": "python3"
  },
  "language_info": {
   "codemirror_mode": {
    "name": "ipython",
    "version": 3
   },
   "file_extension": ".py",
   "mimetype": "text/x-python",
   "name": "python",
   "nbconvert_exporter": "python",
   "pygments_lexer": "ipython3",
   "version": "3.7.2"
  }
 },
 "nbformat": 4,
 "nbformat_minor": 5
}

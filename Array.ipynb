{
 "cells": [
  {
   "cell_type": "code",
   "execution_count": null,
   "id": "native-toronto",
   "metadata": {},
   "outputs": [],
   "source": [
    "\"\"\"\n",
    "Given a sorted array of distinct integers and a target value, return the index if the target is found. If not, return the index where it would be if it were inserted in order.\n",
    "\n",
    "You must write an algorithm with O(log n) runtime complexity.\n",
    "Binary Search algorithm\n",
    "ex:\n",
    "Input: nums = [1,3,5,6], target = 5\n",
    "Output: 2\n",
    "Input: nums = [1,3,5,6], target = 2\n",
    "Output: 1\n",
    "Input: nums = [1,3,5,6], target = 7\n",
    "Output: 4\n",
    "Input: nums = [1,3,5,6], target = 0\n",
    "Output: 0\n",
    "Input: nums = [1], target = 0\n",
    "Output: 0\n",
    "\"\"\"\n",
    "class Solution:\n",
    "    def searchInsert(self, nums: List[int], target: int) -> int:\n",
    "        if nums:\n",
    "            high = len(nums)\n",
    "            low = 0\n",
    "            while high > low:\n",
    "                mid = low + (high - low) // 2\n",
    "                if nums[mid] == target:\n",
    "                    return mid\n",
    "                elif nums[mid] > target:\n",
    "                    high = mid\n",
    "                else:\n",
    "                    low = mid + 1\n",
    "            return low\n",
    "                    \n",
    "        "
   ]
  }
 ],
 "metadata": {
  "kernelspec": {
   "display_name": "Python 3",
   "language": "python",
   "name": "python3"
  },
  "language_info": {
   "codemirror_mode": {
    "name": "ipython",
    "version": 3
   },
   "file_extension": ".py",
   "mimetype": "text/x-python",
   "name": "python",
   "nbconvert_exporter": "python",
   "pygments_lexer": "ipython3",
   "version": "3.7.2"
  }
 },
 "nbformat": 4,
 "nbformat_minor": 5
}
